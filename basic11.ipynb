{
 "cells": [
  {
   "cell_type": "markdown",
   "id": "802c5ec4",
   "metadata": {},
   "source": [
    "#### 1. Create an assert statement that throws an AssertionError if the variable spam is a negative integer."
   ]
  },
  {
   "cell_type": "code",
   "execution_count": 11,
   "id": "e5a06b93",
   "metadata": {},
   "outputs": [
    {
     "name": "stdout",
     "output_type": "stream",
     "text": [
      "enter a number\n",
      "8\n"
     ]
    }
   ],
   "source": [
    "spam = int(input(\"enter a number\\n\"))\n",
    "assert spam >0 ,\"number should be greater than zero\""
   ]
  },
  {
   "cell_type": "code",
   "execution_count": 1,
   "id": "b804e616",
   "metadata": {},
   "outputs": [
    {
     "name": "stdout",
     "output_type": "stream",
     "text": [
      "Final Price: 80.0\n"
     ]
    }
   ],
   "source": [
    "def calculate_discounted_price(original_price, discount):\n",
    "    assert original_price > 0, \"Original price should be greater than 0\"\n",
    "    assert 0 <= discount <= 1, \"Discount should be between 0 and 1\"\n",
    "\n",
    "    discounted_price = original_price - (original_price * discount)\n",
    "    return discounted_price\n",
    "\n",
    "# Example usage\n",
    "# price = 100\n",
    "# discount_rate = 0.2\n",
    "\n",
    "# final_price = calculate_discounted_price(price, discount_rate)\n",
    "# print(\"Final Price:\", final_price)\n"
   ]
  },
  {
   "cell_type": "markdown",
   "id": "c20835b1",
   "metadata": {},
   "source": [
    "### 2. Write an assert statement that triggers an AssertionError if the variables eggs and bacon containstrings that are the same as each other, even if their cases are different (that is, &#39;hello&#39; and &#39;hello&#39; areconsidered the same, and ;goodbye&#39; and &#39;GOODbye&#39; are also considered the same)."
   ]
  },
  {
   "cell_type": "code",
   "execution_count": null,
   "id": "3bc1d217",
   "metadata": {},
   "outputs": [],
   "source": [
    "egg = input(\"Enter text\\t\")\n",
    "bacon = input(\"Enter text\\t\")\n",
    "egg = egg.lower()\n",
    "bacon = bacon.lower()\n",
    "assert egg != bacon ,\"both cannot be same\"\n",
    "\n"
   ]
  },
  {
   "cell_type": "markdown",
   "id": "fa535515",
   "metadata": {},
   "source": [
    "#### 3. Create an assert statement that throws an AssertionError every time."
   ]
  },
  {
   "cell_type": "markdown",
   "id": "917da1d3",
   "metadata": {},
   "source": [
    "assert False, \"This assert statement always triggers an AssertionError\"\n"
   ]
  },
  {
   "cell_type": "markdown",
   "id": "9680eb6b",
   "metadata": {},
   "source": [
    "#### 4. What are the two lines that must be present in your software in order to call logging.debug()?"
   ]
  },
  {
   "cell_type": "markdown",
   "id": "686d98f4",
   "metadata": {},
   "source": [
    "import logging\n",
    "\n",
    "logging.basicConfig(level=logging.DEBUG)\n"
   ]
  },
  {
   "cell_type": "markdown",
   "id": "3d60a842",
   "metadata": {},
   "source": [
    "### 5. What are the two lines that your program must have in order to have logging.debug() send alogging message to a file named programLog.txt?"
   ]
  },
  {
   "cell_type": "markdown",
   "id": "437c77c7",
   "metadata": {},
   "source": [
    "import logging\n",
    "\n",
    "logging.basicConfig(filename='programLog.txt', level=logging.DEBUG)\n"
   ]
  },
  {
   "cell_type": "markdown",
   "id": "1977be87",
   "metadata": {},
   "source": [
    "### 6. What are the five levels of logging?"
   ]
  },
  {
   "cell_type": "markdown",
   "id": "f9e93af7",
   "metadata": {},
   "source": [
    "DEBUG,INFO,WARNING,ERROR,CRITICAL"
   ]
  },
  {
   "cell_type": "markdown",
   "id": "e551cbf7",
   "metadata": {},
   "source": [
    "### 7. What line of code would you add to your software to disable all logging messages?"
   ]
  },
  {
   "cell_type": "markdown",
   "id": "abf25ca0",
   "metadata": {},
   "source": [
    "logging.disable(logging.CRITICAL)\n"
   ]
  },
  {
   "cell_type": "markdown",
   "id": "d02987ca",
   "metadata": {},
   "source": [
    "### 8.Why is using logging messages better than using print() to display the same message?"
   ]
  },
  {
   "cell_type": "markdown",
   "id": "79aed3bf",
   "metadata": {},
   "source": [
    "Using logging messages is generally considered better than using `print()` statements for displaying messages in a production environment for several reasons:\n",
    "\n",
    "1. **Flexibility and configurability:** Logging frameworks provide extensive configuration options, allowing you to control the behavior of log messages without modifying the code. You can specify the log level, format, output destination, and even filter or redirect log messages based on various criteria. This flexibility is essential in different environments and deployment scenarios.\n",
    "\n",
    "2. **Log levels and severity:** Logging frameworks offer various log levels (e.g., DEBUG, INFO, WARNING, ERROR, CRITICAL) to categorize messages based on their severity. With `print()`, it's challenging to differentiate between different levels of importance. By utilizing log levels, you can control which messages should be displayed based on the current application configuration, making it easier to filter out noise and focus on critical information.\n",
    "\n",
    "3. **Hierarchical and structured logging:** Logging frameworks often provide a hierarchical logging structure, allowing you to organize loggers into a hierarchy of modules or components. This hierarchy can help you understand the flow of execution and the origin of log messages. Additionally, logging frameworks enable the inclusion of structured data along with log messages, such as timestamps, source locations, or custom context information, making it easier to analyze and parse logs later.\n",
    "\n",
    "4. **Output destinations and handlers:** Logging frameworks allow you to direct log messages to different output destinations, such as files, the console, or external services. This flexibility allows you to separate log messages from the standard output stream used by `print()`, making it easier to manage and centralize log data. Furthermore, logging frameworks provide handlers that allow you to define custom behavior for log messages, such as sending notifications or aggregating logs from multiple sources.\n",
    "\n",
    "5. **Performance and efficiency:** In production environments, excessive use of `print()` statements can impact performance, especially if the output is not needed or if it slows down I/O operations. Logging frameworks are often designed with performance optimizations in mind, such as buffering log messages, asynchronous logging, or controlling the frequency of I/O operations. This can help minimize the impact on the overall system performance.\n",
    "\n",
    "6. **Integration with existing tools and libraries:** Logging frameworks are widely adopted and often integrate well with other tools and libraries commonly used in software development. They can seamlessly work with log analysis systems, error monitoring services, and centralized logging solutions, enabling better debugging, troubleshooting, and monitoring capabilities.\n",
    "\n",
    "Overall, using logging messages provides a more robust and flexible approach to manage and display messages in a production environment, compared to relying solely on `print()` statements."
   ]
  },
  {
   "cell_type": "markdown",
   "id": "def49c76",
   "metadata": {},
   "source": [
    "### 9. What are the differences between the Step Over, Step In, and Step Out buttons in the debugger?"
   ]
  },
  {
   "cell_type": "markdown",
   "id": "5bffefcc",
   "metadata": {},
   "source": [
    "Step Over executes the current line and moves to the next line in the current function.\n",
    "Step In executes the current line and, if it's a function call, steps into that function.\n",
    "Step Out executes the remaining lines of the current function and returns to the line immediately after the function call that led to the current function."
   ]
  },
  {
   "cell_type": "markdown",
   "id": "36de3448",
   "metadata": {},
   "source": [
    "### 10.After you click Continue, when will the debugger stop ?"
   ]
  },
  {
   "cell_type": "markdown",
   "id": "f1b740ae",
   "metadata": {},
   "source": [
    "After clicking the Continue button in a debugger, the debugger will continue executing the program without pausing or interrupting the execution until a specific condition is met. The debugger will stop when one of the following events occurs:\n",
    "\n",
    "1. **Breakpoint:** If a breakpoint is set in the code, the debugger will stop when the execution reaches that breakpoint. Breakpoints allow you to specify certain lines or points in the code where you want the debugger to pause and allow you to inspect the program's state.\n",
    "\n",
    "2. **Exception/Error:** If an unhandled exception or error occurs during program execution, the debugger will typically pause and highlight the line of code where the exception occurred. This allows you to examine the exception details and analyze the program's state at the point of the error.\n",
    "\n",
    "3. **Explicit interruption:** If you manually interrupt the program execution while it's running, such as by pressing a \"Stop\" or \"Pause\" button in the debugger interface, the debugger will stop at the point of interruption.\n",
    "\n",
    "4. **Program completion:** The debugger may automatically stop when the program execution completes all the code in the main function or reaches its natural termination point. In some cases, the debugger may provide options to continue debugging even after the program has finished executing.\n",
    "\n",
    "It's important to note that the exact behavior and available options may vary depending on the specific debugger and programming environment you are using. However, these are common scenarios where the debugger will stop execution and allow you to analyze the program's state and behavior."
   ]
  },
  {
   "cell_type": "markdown",
   "id": "8eb0d477",
   "metadata": {},
   "source": [
    "### 11. What is the concept of a breakpoint?"
   ]
  },
  {
   "cell_type": "markdown",
   "id": "0748a117",
   "metadata": {},
   "source": [
    "The concept of a breakpoint is fundamental in debugging and refers to a specific point in your code where you want the debugger to pause the program's execution, allowing you to inspect and analyze its state.\n",
    "\n",
    "When you set a breakpoint at a particular line or statement in your code, the debugger will stop execution at that point and provide you with a debugging environment to examine variables, step through the code, and gather information about the program's behavior.\n",
    "\n",
    "Breakpoints are useful for several reasons:\n",
    "\n",
    "1. **Program flow analysis:** By setting breakpoints at strategic points in your code, you can examine the program's flow of execution. This allows you to observe how the program reaches certain states or analyze the control flow when unexpected behaviors occur.\n",
    "\n",
    "2. **Variable inspection:** When the program execution is paused at a breakpoint, you can inspect the values of variables at that specific point in time. This helps you identify incorrect or unexpected variable values and gain insights into the program's internal state.\n",
    "\n",
    "3. **Debugging complex issues:** Breakpoints are particularly helpful in debugging complex issues, where you may need to step through the code line by line to understand how the program behaves and identify the source of the problem.\n",
    "\n",
    "4. **Conditional breakpoints:** Many debuggers allow you to set conditional breakpoints. Instead of stopping the execution at every occurrence of a breakpoint, you can specify a condition that must be met for the debugger to pause the program. This enables you to focus on specific scenarios or problem areas in your code.\n",
    "\n",
    "5. **Dynamic modification:** Some advanced debugging environments allow you to modify the code or variables while the program execution is paused at a breakpoint. This feature enables you to test hypotheses, fix issues on the fly, or experiment with different values without having to restart the program.\n",
    "\n",
    "By strategically placing breakpoints in your code, you can gain valuable insights into the program's behavior, identify and resolve issues efficiently, and improve the overall quality and reliability of your software."
   ]
  },
  {
   "cell_type": "code",
   "execution_count": null,
   "id": "cb9f9a2f",
   "metadata": {},
   "outputs": [],
   "source": []
  }
 ],
 "metadata": {
  "kernelspec": {
   "display_name": "Python 3 (ipykernel)",
   "language": "python",
   "name": "python3"
  },
  "language_info": {
   "codemirror_mode": {
    "name": "ipython",
    "version": 3
   },
   "file_extension": ".py",
   "mimetype": "text/x-python",
   "name": "python",
   "nbconvert_exporter": "python",
   "pygments_lexer": "ipython3",
   "version": "3.10.9"
  }
 },
 "nbformat": 4,
 "nbformat_minor": 5
}
